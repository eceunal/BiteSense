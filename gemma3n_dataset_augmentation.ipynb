{
  "nbformat": 4,
  "nbformat_minor": 0,
  "metadata": {
    "colab": {
      "provenance": [],
      "machine_shape": "hm",
      "gpuType": "L4"
    },
    "kernelspec": {
      "name": "python3",
      "display_name": "Python 3"
    },
    "language_info": {
      "name": "python"
    },
    "accelerator": "GPU"
  },
  "cells": [
    {
      "cell_type": "code",
      "source": [
        "!pip install -q albumentations==1.4.7 pillow tqdm datasets huggingface_hub\n",
        "\n",
        "from huggingface_hub import login\n",
        "import os, shutil, uuid, tempfile, json, random\n",
        "from pathlib import Path\n",
        "\n",
        "\n",
        "from google.colab import userdata\n",
        "HF_TOKEN = userdata.get('HF_TOKEN')"
      ],
      "metadata": {
        "id": "79asaL-MtpVX"
      },
      "execution_count": null,
      "outputs": []
    },
    {
      "cell_type": "code",
      "source": [
        "RAW_DATASET_ID = \"eceunal/bug-bite-images-hf\"\n",
        "AUG_DATASET_ID = \"eceunal/insect-bite-aug-v2\"\n",
        "LOCAL_WORKDIR  = Path(\"/content/augmented_dataset\")\n",
        "N_AUG_PER_IMG  = 5\n",
        "SEED = 42"
      ],
      "metadata": {
        "id": "QA-um_ABtfoy"
      },
      "execution_count": null,
      "outputs": []
    },
    {
      "cell_type": "code",
      "source": [
        "login(HF_TOKEN)\n",
        "random.seed(SEED)"
      ],
      "metadata": {
        "id": "McEe-AFOtsrp"
      },
      "execution_count": null,
      "outputs": []
    },
    {
      "cell_type": "code",
      "source": [
        "if LOCAL_WORKDIR.exists(): shutil.rmtree(LOCAL_WORKDIR)\n",
        "LOCAL_WORKDIR.mkdir(parents=True)"
      ],
      "metadata": {
        "id": "cIEjjZzytvam"
      },
      "execution_count": null,
      "outputs": []
    },
    {
      "cell_type": "code",
      "source": [
        "from datasets import load_dataset\n",
        "\n",
        "raw_ds = load_dataset(RAW_DATASET_ID, split=\"train+test+validation\")\n",
        "\n",
        "print(\"Raw dataset rows:\", len(raw_ds))\n",
        "print(\"Example keys:\", raw_ds.column_names)"
      ],
      "metadata": {
        "id": "uedZmfCZtzUn"
      },
      "execution_count": null,
      "outputs": []
    },
    {
      "cell_type": "code",
      "source": [
        "import albumentations as A\n",
        "from albumentations.pytorch import ToTensorV2\n",
        "from PIL import Image\n",
        "import numpy as np"
      ],
      "metadata": {
        "id": "cZl5UJtJuFnh"
      },
      "execution_count": null,
      "outputs": []
    },
    {
      "cell_type": "code",
      "source": [
        "from pathlib import Path, PurePosixPath\n",
        "import uuid, random, numpy as np\n",
        "from PIL import Image\n",
        "from tqdm.auto import tqdm"
      ],
      "metadata": {
        "id": "yJP4kY77wChc"
      },
      "execution_count": null,
      "outputs": []
    },
    {
      "cell_type": "code",
      "source": [
        "augment = A.Compose([\n",
        "    A.OneOf([                       # geometric flips/rotations\n",
        "        A.HorizontalFlip(p=0.5),\n",
        "        A.VerticalFlip(p=0.5),\n",
        "        A.Rotate(limit=25, p=0.7),\n",
        "    ], p=1.0),\n",
        "\n",
        "    A.RandomResizedCrop(            # scale & crop\n",
        "        height=224, width=224,\n",
        "        scale=(0.8, 1.0), ratio=(0.9, 1.1), p=1.0),\n",
        "\n",
        "    A.ColorJitter(0.2, 0.2, 0.25, 0.05, p=0.7),\n",
        "    A.Perspective(scale=(0.05, 0.1), p=0.3),\n",
        "    A.GaussianBlur(blur_limit=3,     p=0.2),\n",
        "\n",
        "    A.OneOf([\n",
        "        A.ElasticTransform(\n",
        "            alpha=40, sigma=50, alpha_affine=20, p=0.9),\n",
        "        A.CoarseDropout(\n",
        "            max_holes=1, max_height=56, max_width=56,\n",
        "            min_holes=1, fill_value=0, p=1.0),\n",
        "    ], p=0.5),                       # apply one of them half the time\n",
        "])"
      ],
      "metadata": {
        "id": "xcw10KzAuTAH"
      },
      "execution_count": null,
      "outputs": []
    },
    {
      "cell_type": "code",
      "source": [
        "LOCAL_WORKDIR = Path(\"/content/augmented_dataset\")\n",
        "\n",
        "int2str = raw_ds.features[\"label\"].int2str\n",
        "train_ratio   = 0.80\n",
        "\n",
        "for row in tqdm(raw_ds):\n",
        "    pil_img = row[\"image\"] if isinstance(row[\"image\"], Image.Image) \\\n",
        "              else Image.open(row[\"image\"][\"path\"])\n",
        "\n",
        "    label_txt = int2str(row[\"label\"]) if \"label\" in row else \"0\"\n",
        "\n",
        "    split = \"train\" if random.random() < train_ratio else \"validation\"\n",
        "    tgt_dir = LOCAL_WORKDIR / split / label_txt\n",
        "    tgt_dir.mkdir(parents=True, exist_ok=True)\n",
        "\n",
        "    img_name = f\"{uuid.uuid4()}.jpg\"\n",
        "    pil_img.save(tgt_dir / img_name, \"JPEG\", quality=95)\n",
        "\n",
        "    np_img = np.array(pil_img)\n",
        "    for _ in range(N_AUG_PER_IMG):\n",
        "        aug_img = augment(image=np_img)[\"image\"]\n",
        "        aug_name = f\"{uuid.uuid4()}.jpg\"\n",
        "        Image.fromarray(aug_img).save(tgt_dir / aug_name, \"JPEG\", quality=95)\n",
        "\n",
        "print(\"Augmented set stored at:\", LOCAL_WORKDIR)"
      ],
      "metadata": {
        "id": "KgwV1jqNuMo1"
      },
      "execution_count": null,
      "outputs": []
    },
    {
      "cell_type": "code",
      "source": [
        "aug_ds = load_dataset(\"imagefolder\", data_dir=str(LOCAL_WORKDIR))\n",
        "print(aug_ds)\n",
        "\n",
        "aug_ds.push_to_hub(\n",
        "    \"eceunal/bug-bite-images-aug_v3\",\n",
        "    max_shard_size=\"500MB\",\n",
        "    private=False,\n",
        ")"
      ],
      "metadata": {
        "id": "2rMdAPz2xWTk"
      },
      "execution_count": null,
      "outputs": []
    }
  ]
}